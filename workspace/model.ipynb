{
 "cells": [
  {
   "cell_type": "code",
   "execution_count": 1,
   "metadata": {},
   "outputs": [],
   "source": [
    "import sys\n",
    "sys.path.insert(0, \"../\")"
   ]
  },
  {
   "cell_type": "code",
   "execution_count": 8,
   "metadata": {},
   "outputs": [
    {
     "data": {
      "text/plain": [
       "Registry(name=model, items={})"
      ]
     },
     "execution_count": 8,
     "metadata": {},
     "output_type": "execute_result"
    }
   ],
   "source": [
    "from mmcv.cnn import MODELS as MMCV_MODELS\n",
    "MMCV_MODELS"
   ]
  },
  {
   "cell_type": "code",
   "execution_count": 9,
   "metadata": {},
   "outputs": [
    {
     "ename": "AttributeError",
     "evalue": "'NoneType' object has no attribute '__name__'",
     "output_type": "error",
     "traceback": [
      "\u001b[0;31m---------------------------------------------------------------------------\u001b[0m",
      "\u001b[0;31mAttributeError\u001b[0m                            Traceback (most recent call last)",
      "\u001b[1;32m/home/nguyen.thanh.huyenb/yolov7/SoftTeacher/workspace/model.ipynb Cell 3\u001b[0m in \u001b[0;36m<cell line: 2>\u001b[0;34m()\u001b[0m\n\u001b[1;32m      <a href='vscode-notebook-cell://ssh-remote%2B7b22686f73744e616d65223a2267707541227d/home/nguyen.thanh.huyenb/yolov7/SoftTeacher/workspace/model.ipynb#W2sdnNjb2RlLXJlbW90ZQ%3D%3D?line=0'>1</a>\u001b[0m \u001b[39mfrom\u001b[39;00m \u001b[39mmmcv\u001b[39;00m\u001b[39m.\u001b[39;00m\u001b[39mutils\u001b[39;00m \u001b[39mimport\u001b[39;00m Registry\n\u001b[0;32m----> <a href='vscode-notebook-cell://ssh-remote%2B7b22686f73744e616d65223a2267707541227d/home/nguyen.thanh.huyenb/yolov7/SoftTeacher/workspace/model.ipynb#W2sdnNjb2RlLXJlbW90ZQ%3D%3D?line=1'>2</a>\u001b[0m MODELS \u001b[39m=\u001b[39m Registry(\u001b[39m'\u001b[39;49m\u001b[39mmodels\u001b[39;49m\u001b[39m'\u001b[39;49m, parent\u001b[39m=\u001b[39;49mMMCV_MODELS)\n",
      "File \u001b[0;32m~/miniconda3/envs/mmdetection_v2/lib/python3.9/site-packages/mmcv/utils/registry.py:115\u001b[0m, in \u001b[0;36mRegistry.__init__\u001b[0;34m(self, name, build_func, parent, scope)\u001b[0m\n\u001b[1;32m    113\u001b[0m \u001b[39mself\u001b[39m\u001b[39m.\u001b[39m_module_dict \u001b[39m=\u001b[39m \u001b[39mdict\u001b[39m()\n\u001b[1;32m    114\u001b[0m \u001b[39mself\u001b[39m\u001b[39m.\u001b[39m_children \u001b[39m=\u001b[39m \u001b[39mdict\u001b[39m()\n\u001b[0;32m--> 115\u001b[0m \u001b[39mself\u001b[39m\u001b[39m.\u001b[39m_scope \u001b[39m=\u001b[39m \u001b[39mself\u001b[39;49m\u001b[39m.\u001b[39;49minfer_scope() \u001b[39mif\u001b[39;00m scope \u001b[39mis\u001b[39;00m \u001b[39mNone\u001b[39;00m \u001b[39melse\u001b[39;00m scope\n\u001b[1;32m    117\u001b[0m \u001b[39m# self.build_func will be set with the following priority:\u001b[39;00m\n\u001b[1;32m    118\u001b[0m \u001b[39m# 1. build_func\u001b[39;00m\n\u001b[1;32m    119\u001b[0m \u001b[39m# 2. parent.build_func\u001b[39;00m\n\u001b[1;32m    120\u001b[0m \u001b[39m# 3. build_from_cfg\u001b[39;00m\n\u001b[1;32m    121\u001b[0m \u001b[39mif\u001b[39;00m build_func \u001b[39mis\u001b[39;00m \u001b[39mNone\u001b[39;00m:\n",
      "File \u001b[0;32m~/miniconda3/envs/mmdetection_v2/lib/python3.9/site-packages/mmcv/utils/registry.py:169\u001b[0m, in \u001b[0;36mRegistry.infer_scope\u001b[0;34m()\u001b[0m\n\u001b[1;32m    167\u001b[0m \u001b[39m# get the frame where `infer_scope()` is called\u001b[39;00m\n\u001b[1;32m    168\u001b[0m infer_scope_caller \u001b[39m=\u001b[39m frame\u001b[39m.\u001b[39mf_back\u001b[39m.\u001b[39mf_back\n\u001b[0;32m--> 169\u001b[0m filename \u001b[39m=\u001b[39m inspect\u001b[39m.\u001b[39;49mgetmodule(infer_scope_caller)\u001b[39m.\u001b[39;49m\u001b[39m__name__\u001b[39;49m\n\u001b[1;32m    170\u001b[0m split_filename \u001b[39m=\u001b[39m filename\u001b[39m.\u001b[39msplit(\u001b[39m'\u001b[39m\u001b[39m.\u001b[39m\u001b[39m'\u001b[39m)\n\u001b[1;32m    171\u001b[0m \u001b[39mreturn\u001b[39;00m split_filename[\u001b[39m0\u001b[39m]\n",
      "\u001b[0;31mAttributeError\u001b[0m: 'NoneType' object has no attribute '__name__'"
     ]
    }
   ],
   "source": [
    "from mmcv.utils import Registry\n",
    "MODELS = Registry('models', parent=MMCV_MODELS)\n"
   ]
  },
  {
   "cell_type": "code",
   "execution_count": null,
   "metadata": {},
   "outputs": [],
   "source": []
  }
 ],
 "metadata": {
  "kernelspec": {
   "display_name": "mmdetection_v2",
   "language": "python",
   "name": "python3"
  },
  "language_info": {
   "codemirror_mode": {
    "name": "ipython",
    "version": 3
   },
   "file_extension": ".py",
   "mimetype": "text/x-python",
   "name": "python",
   "nbconvert_exporter": "python",
   "pygments_lexer": "ipython3",
   "version": "3.9.16"
  },
  "orig_nbformat": 4,
  "vscode": {
   "interpreter": {
    "hash": "b907d8d049b1997066bb53774897df1cd7a1c61ca4031e7fd0a829722658cab6"
   }
  }
 },
 "nbformat": 4,
 "nbformat_minor": 2
}
